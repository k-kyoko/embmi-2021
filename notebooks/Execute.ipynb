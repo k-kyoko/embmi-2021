{
 "cells": [
  {
   "cell_type": "code",
   "execution_count": 8,
   "id": "246e6df1-15a9-426b-992b-a52f2595cfec",
   "metadata": {},
   "outputs": [],
   "source": [
    "import glob\n",
    "#glob.glob('/Volumes/NAS11/Kusano/Experiment_hirose/data/Sei*tr*.mat')"
   ]
  },
  {
   "cell_type": "code",
   "execution_count": 27,
   "id": "3cff8fb3-7eaf-49de-93b1-fe84c524ee6b",
   "metadata": {},
   "outputs": [
    {
     "name": "stdout",
     "output_type": "stream",
     "text": [
      "Set Program Config\n",
      "Current Settings\n",
      "{'Path': './data_ST', 'Workspace': './analysis_result', 'n_Ch': 129, 'Fs': 1000, 'n_Trial': 25, 'n_Session': 6, 'Ref_ch': (57, 100), 'COI': [7, 31, 36, 55, 80, 104, 105, 106, 112, 129], 'Filter': {'Bandpass': [1, 20],\n",
      " 'Fpass': (array([ 0.0001894,  0.       , -0.0005682,  0.       ,  0.0005682,\n",
      "        0.       , -0.0001894]),\n",
      "           array([  1.        ,  -5.75910201,  13.82577139, -17.71017119,\n",
      "        12.7669274 ,  -4.91091659,   0.787491  ])),\n",
      " 'Fstop': (array([  0.98751217,  -5.63519057,  13.68151753, -18.06675311,\n",
      "        13.68151753,  -5.63519057,   0.98751217]),\n",
      "           array([  1.        ,  -5.68254877,  13.73874858, -18.06645648,\n",
      "        13.62413053,  -5.588129  ,   0.9751803 ])),\n",
      " 'Notch': [49, 51],\n",
      " 'StopWn': (0.098, 0.102),\n",
      " 'Wn': (0.002, 0.04),\n",
      " 'butter_N': 3}}\n",
      "Start Data Loading @ ./data_ST\n",
      "got path list \n",
      "['./data_ST/SeiTakeda_S4.mat',\n",
      " './data_ST/SeiTakeda_S5.mat',\n",
      " './data_ST/SeiTakeda_S6.mat',\n",
      " './data_ST/ST_S5_params.mat',\n",
      " './data_ST/SeiTakeda_S2.mat',\n",
      " './data_ST/SeiTakeda_S3.mat',\n",
      " './data_ST/SeiTakeda_S1.mat',\n",
      " './data_ST/ST_S2_params.mat',\n",
      " './data_ST/ST_S4_params.mat',\n",
      " './data_ST/ST_S1_params.mat',\n",
      " './data_ST/ST_S6_params.mat',\n",
      " './data_ST/ST_S3_params.mat']\n",
      "got data paths: \n",
      "['./data_ST/SeiTakeda_S1.mat',\n",
      " './data_ST/SeiTakeda_S2.mat',\n",
      " './data_ST/SeiTakeda_S3.mat',\n",
      " './data_ST/SeiTakeda_S4.mat',\n",
      " './data_ST/SeiTakeda_S5.mat',\n",
      " './data_ST/SeiTakeda_S6.mat'], \n",
      "params paths: ['./data_ST/ST_S1_params.mat',\n",
      " './data_ST/ST_S2_params.mat',\n",
      " './data_ST/ST_S3_params.mat',\n",
      " './data_ST/ST_S4_params.mat',\n",
      " './data_ST/ST_S5_params.mat',\n",
      " './data_ST/ST_S6_params.mat']\n"
     ]
    },
    {
     "name": "stderr",
     "output_type": "stream",
     "text": [
      "6it [00:00,  9.14it/s]\n"
     ]
    },
    {
     "name": "stdout",
     "output_type": "stream",
     "text": [
      "Data Loaded\n",
      "{'S1.mat': Exdata(session:1, EEG:(129, 423953), DIN:(78), SamplingRate:1000.0, Randt:(25,)),\n",
      " 'S2.mat': Exdata(session:2, EEG:(129, 413563), DIN:(77), SamplingRate:1000.0, Randt:(25,)),\n",
      " 'S3.mat': Exdata(session:3, EEG:(129, 421456), DIN:(75), SamplingRate:1000.0, Randt:(25,)),\n",
      " 'S4.mat': Exdata(session:4, EEG:(129, 423773), DIN:(76), SamplingRate:1000.0, Randt:(25,)),\n",
      " 'S5.mat': Exdata(session:5, EEG:(129, 422731), DIN:(80), SamplingRate:1000.0, Randt:(25,)),\n",
      " 'S6.mat': Exdata(session:6, EEG:(129, 435655), DIN:(79), SamplingRate:1000.0, Randt:(25,))}\n",
      "Filter Process\n"
     ]
    },
    {
     "name": "stderr",
     "output_type": "stream",
     "text": [
      "100%|█████████████████████████████████████████████| 6/6 [00:22<00:00,  3.80s/it]"
     ]
    },
    {
     "name": "stdout",
     "output_type": "stream",
     "text": [
      "Filter Process DONE\n"
     ]
    },
    {
     "name": "stderr",
     "output_type": "stream",
     "text": [
      "\n"
     ]
    }
   ],
   "source": [
    "%run main.py"
   ]
  },
  {
   "cell_type": "code",
   "execution_count": 1,
   "id": "643588a5-e6ce-4dfe-a3f5-9fc859aabc70",
   "metadata": {},
   "outputs": [],
   "source": [
    "import pandas as pd\n"
   ]
  },
  {
   "cell_type": "code",
   "execution_count": 6,
   "id": "06842fd8-fe87-4348-ba2b-d3374313b303",
   "metadata": {},
   "outputs": [
    {
     "data": {
      "text/plain": [
       "array([[1, 3]])"
      ]
     },
     "execution_count": 6,
     "metadata": {},
     "output_type": "execute_result"
    }
   ],
   "source": [
    "pd.read_csv('./data_ST/removefiles_S1.csv', header=None).values"
   ]
  },
  {
   "cell_type": "code",
   "execution_count": 19,
   "id": "715992cc-6670-400b-9431-cbb70f5272b2",
   "metadata": {},
   "outputs": [
    {
     "data": {
      "text/plain": [
       "[array([[1, 3]]),\n",
       " array([[0]]),\n",
       " array([[0]]),\n",
       " array([[0]]),\n",
       " array([[0]]),\n",
       " array([[0]])]"
      ]
     },
     "execution_count": 19,
     "metadata": {},
     "output_type": "execute_result"
    }
   ],
   "source": [
    "path_remove = sorted(glob.glob('./data_ST/removefiles_*'))\n",
    "#print(path_remove)\n",
    "removefiles = []\n",
    "\n",
    "for p in path_remove:\n",
    "    temp = pd.read_csv(p, header=None).values\n",
    "    removefiles.append(temp)\n",
    "\n",
    "removefiles"
   ]
  },
  {
   "cell_type": "code",
   "execution_count": 26,
   "id": "ec61a029-239f-46c5-9193-e21cf9deef59",
   "metadata": {},
   "outputs": [
    {
     "data": {
      "text/plain": [
       "3"
      ]
     },
     "execution_count": 26,
     "metadata": {},
     "output_type": "execute_result"
    }
   ],
   "source": [
    "removefiles[0][0,1]"
   ]
  },
  {
   "cell_type": "code",
   "execution_count": 36,
   "id": "95815dcc-2dfd-4474-b9be-e90de1706b4a",
   "metadata": {},
   "outputs": [
    {
     "data": {
      "text/plain": [
       "(129, 423953)"
      ]
     },
     "execution_count": 36,
     "metadata": {},
     "output_type": "execute_result"
    }
   ],
   "source": [
    "data_filt['S1.mat'].shape"
   ]
  },
  {
   "cell_type": "code",
   "execution_count": null,
   "id": "8597535a-570d-4c6a-84a8-035413efa301",
   "metadata": {},
   "outputs": [],
   "source": []
  }
 ],
 "metadata": {
  "kernelspec": {
   "display_name": "Python 3 (ipykernel)",
   "language": "python",
   "name": "python3"
  },
  "language_info": {
   "codemirror_mode": {
    "name": "ipython",
    "version": 3
   },
   "file_extension": ".py",
   "mimetype": "text/x-python",
   "name": "python",
   "nbconvert_exporter": "python",
   "pygments_lexer": "ipython3",
   "version": "3.8.7"
  }
 },
 "nbformat": 4,
 "nbformat_minor": 5
}
