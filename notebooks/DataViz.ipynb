{
 "cells": [
  {
   "cell_type": "code",
   "execution_count": 1,
   "id": "d7916ac2-9eb2-446d-b82e-87585e972f24",
   "metadata": {
    "tags": []
   },
   "outputs": [],
   "source": [
    "%cd ../\n",
    "%run embmi/main.py"
   ]
  },
  {
   "cell_type": "code",
   "execution_count": null,
   "id": "5417820f-81ab-4026-8bf6-9aa3b91d97bb",
   "metadata": {},
   "outputs": [],
   "source": [
    "import matplotlib.pyplot as plt"
   ]
  },
  {
   "cell_type": "code",
   "execution_count": 2,
   "id": "4d5299c5-88e7-441c-b5ca-eea842b813bc",
   "metadata": {},
   "outputs": [],
   "source": [
    "for i in range(4):\n",
    "    s = {}\n",
    "    for k, v in data['exdata'][i].DIN:\n",
    "        if k not in s.keys():\n",
    "            s[k] = 0\n",
    "        else:\n",
    "            s[k] += 1\n",
    "\n",
    "    print(f'session{i+1} : {sorted(s.items(), key=lambda x:x[0])}')"
   ]
  },
  {
   "cell_type": "code",
   "execution_count": 116,
   "id": "8a200d02-d70f-4511-b74d-8fbdd3dd33d6",
   "metadata": {},
   "outputs": [],
   "source": [
    "def adjustment(data):\n",
    "    res = []\n",
    "    for s in data:\n",
    "        d = np.asarray([\n",
    "            v[:, :] - (v[conf.experiment.Ref_ch[0], :] + v[conf.experiment.Ref_ch[1], :])/2\n",
    "            for k, v in s.items()\n",
    "        ])\n",
    "        res.append(d)\n",
    "    return res\n",
    "\n",
    "target = ('master_true', 'master_fake', 'master_emg')\n",
    "idx_coi = [i - 1 for i in conf.experiment.COI]\n",
    "\n",
    "erp = {\n",
    "    key: adjustment(data[key]) \n",
    "    for key in target\n",
    "}"
   ]
  },
  {
   "cell_type": "markdown",
   "id": "078bc217-49f1-4d12-9476-85b7d482dcad",
   "metadata": {},
   "source": [
    "## Calc Mean by Session"
   ]
  },
  {
   "cell_type": "code",
   "execution_count": 88,
   "id": "8a0392a8-46ba-48de-ac56-a616fe43c47d",
   "metadata": {},
   "outputs": [],
   "source": [
    "erp_session = {\n",
    "    k: [i.mean(0) for i in erp[k]]\n",
    "    for k in target\n",
    "}"
   ]
  },
  {
   "cell_type": "code",
   "execution_count": 152,
   "id": "db4cffbd-dd48-4d5b-b0cd-d8f451b7abb3",
   "metadata": {},
   "outputs": [],
   "source": [
    "df_session = [\n",
    "    v\n",
    "    for v in zip([erp_session[k] for k in target])\n",
    "]"
   ]
  },
  {
   "cell_type": "code",
   "execution_count": 160,
   "id": "62aed353-b7e1-4682-bdca-f0a191b59347",
   "metadata": {},
   "outputs": [
    {
     "data": {
      "text/plain": [
       "([array([[ 13.10312537,  13.14341793,  13.18596084, ...,  44.17535643,\n",
       "           44.05441362,  43.93181894],\n",
       "         [-20.75937952, -20.68161721, -20.59474885, ..., -19.71114131,\n",
       "          -19.79286232, -19.86867601],\n",
       "         [-17.1819517 , -17.02539057, -16.86004992, ..., -12.08998721,\n",
       "          -12.08028387, -12.06304861],\n",
       "         ...,\n",
       "         [ 51.86511008,  51.93370272,  52.00484728, ...,  52.42190458,\n",
       "           52.50338685,  52.58733593],\n",
       "         [-12.74864062, -12.56607328, -12.37976928, ..., -12.2750312 ,\n",
       "          -12.19108155, -12.09759919],\n",
       "         [ -8.87263226,  -8.78821098,  -8.6972236 , ...,  -3.65753998,\n",
       "           -3.58338087,  -3.50357419]]),\n",
       "  array([[  6.87980945,   6.99259521,   7.09734743, ...,  31.57631467,\n",
       "           31.52099121,  31.46071546],\n",
       "         [-29.87479646, -29.79770201, -29.72480139, ...,  -6.85077343,\n",
       "           -6.85928893,  -6.87215276],\n",
       "         [-24.05297567, -23.90602301, -23.77094024, ...,  -9.96658945,\n",
       "           -9.97798812,  -9.99228443],\n",
       "         ...,\n",
       "         [  2.77332358,   2.84101669,   2.89283919, ...,  -7.63904485,\n",
       "           -7.75941339,  -7.8883314 ],\n",
       "         [-43.45801235, -43.41782997, -43.39313212, ..., -55.41838515,\n",
       "          -55.51662477, -55.62279939],\n",
       "         [ -2.69051724,  -2.63929987,  -2.60058533, ...,   3.93207298,\n",
       "            3.8994473 ,   3.85193407]]),\n",
       "  array([[ -0.18110047,   0.17852008,   0.53094428, ...,   7.10523714,\n",
       "            6.91924882,   6.7193757 ],\n",
       "         [ -0.75001756,  -0.43215043,  -0.13115864, ..., -10.82835046,\n",
       "          -10.92981503, -11.04060342],\n",
       "         [ -2.35291545,  -2.01937504,  -1.70583157, ...,  -1.66486146,\n",
       "           -1.76693422,  -1.87449486],\n",
       "         ...,\n",
       "         [ 11.3135107 ,  11.59862325,  11.87773845, ...,   8.28141615,\n",
       "            8.21798448,   8.14959403],\n",
       "         [  2.0520403 ,   2.36986879,   2.68142787, ..., -18.00209988,\n",
       "          -18.08014219, -18.16875668],\n",
       "         [  4.94098056,   5.16819162,   5.38505118, ...,   1.42556125,\n",
       "            1.44756744,   1.46802054]]),\n",
       "  array([[  7.29130277,   7.26092099,   7.23714251, ...,   4.61202907,\n",
       "            4.65612452,   4.70047625],\n",
       "         [ -5.72905881,  -5.70041594,  -5.65632949, ...,  -2.7489155 ,\n",
       "           -2.73631369,  -2.7179847 ],\n",
       "         [ -2.59612449,  -2.5280465 ,  -2.44061761, ...,   5.4824085 ,\n",
       "            5.42828867,   5.37554245],\n",
       "         ...,\n",
       "         [-29.16624905, -29.16830699, -29.17116187, ..., -17.88915641,\n",
       "          -17.85759081, -17.83237019],\n",
       "         [-13.10228687, -13.13840556, -13.1760549 , ..., -11.69931765,\n",
       "          -11.63943484, -11.58794686],\n",
       "         [ -7.83963047,  -7.76074042,  -7.65898279, ...,   0.24996085,\n",
       "            0.20101185,   0.15699468]])],)"
      ]
     },
     "execution_count": 160,
     "metadata": {},
     "output_type": "execute_result"
    }
   ],
   "source": [
    "df_session[0]"
   ]
  },
  {
   "cell_type": "markdown",
   "id": "5367fd7f-5e8b-4788-a270-126203996e2c",
   "metadata": {},
   "source": [
    "## Calc Mean by All Sessions"
   ]
  },
  {
   "cell_type": "code",
   "execution_count": 113,
   "id": "15c71470-3c6f-4b4c-a48a-a6d6157954b7",
   "metadata": {},
   "outputs": [],
   "source": [
    "erp_all = {\n",
    "    k: np.vstack(erp[k]).mean(0)\n",
    "    for k in target\n",
    "}"
   ]
  },
  {
   "cell_type": "code",
   "execution_count": null,
   "id": "23571d15-d7f1-4fce-875a-3a524c2d6a0a",
   "metadata": {},
   "outputs": [],
   "source": [
    "\n",
    "df = [pd.DataFrame(e[idx_coi, :], columns=range(-1000, 1000), index=conf.experiment.COI) for e in erp]\n",
    "df_mean = pd.DataFrame([d.mean(0) for d in df], index=['true', 'fake', 'emg']).T"
   ]
  },
  {
   "cell_type": "code",
   "execution_count": null,
   "id": "d855156d-dfbe-44bf-a2f2-fa15fb2859c6",
   "metadata": {},
   "outputs": [],
   "source": [
    "df_mean"
   ]
  },
  {
   "cell_type": "code",
   "execution_count": null,
   "id": "c24d1329-bc1d-45dc-b524-18b6c4eca8cf",
   "metadata": {},
   "outputs": [],
   "source": [
    "df_mean.plot(title='True Fake and EMG (0 = DIN6, 7, 8)', figsize=(16, 9))"
   ]
  },
  {
   "cell_type": "code",
   "execution_count": null,
   "id": "afdb78d1-d42b-45d1-a95c-16eb803816dc",
   "metadata": {},
   "outputs": [],
   "source": [
    "target_range = range(1275, 1375)\n",
    "df_peak = df_mean.iloc[target_range].apply(\n",
    "    lambda x: pd.Series(scipy.signal.find_peaks(-x)[0] + 1275 - 1)\n",
    ")\n",
    "df_mean.iloc[range(1275, 1375)].plot(figsize=(16, 9))\n",
    "plt.vlines(df_peak-1000, -20, 0)\n",
    "print(df_peak)"
   ]
  },
  {
   "cell_type": "code",
   "execution_count": null,
   "id": "0d776739-da7b-4d0e-85df-73ba4b08b2d5",
   "metadata": {},
   "outputs": [],
   "source": [
    "# df_peak = df_peak.iloc[0:1, :].astype(int)\n",
    "df_peak = pd.DataFrame({\n",
    "    'true': [df_peak.true[0]],\n",
    "    'fake': [df_peak.fake[0]],\n",
    "    'emg': [df_peak.emg[0]]\n",
    "}).astype(np.int_)"
   ]
  },
  {
   "cell_type": "code",
   "execution_count": null,
   "id": "2950a179-7905-4a90-a0e8-e1cb02e3e0bf",
   "metadata": {},
   "outputs": [],
   "source": [
    "_df_true = df_mean.true\n",
    "_df_true.index = range(-df_peak.true[0], 2000 - df_peak.true[0])\n",
    "_df_fake = df_mean.fake\n",
    "_df_fake.index = range(-df_peak.fake[0], 2000 - df_peak.fake[0])\n",
    "_df_emg = df_mean.emg\n",
    "_df_emg.index = range(-df_peak.emg[0], 2000 - df_peak.emg[0])\n",
    "\n",
    "df_fix = pd.DataFrame([\n",
    "    _df_true,\n",
    "    _df_fake,\n",
    "    _df_emg\n",
    "]).T\n",
    "\n",
    "df_fix.plot(title='True Fake and EMG with COI Data (0 = Peak), day2-session3', figsize=(16, 9))"
   ]
  },
  {
   "cell_type": "code",
   "execution_count": null,
   "id": "9ae3cb52-6195-45c9-91e7-bc0a0852626d",
   "metadata": {},
   "outputs": [],
   "source": [
    "df_all = [pd.DataFrame(e, columns=range(-1000, 1000)) for e in erp]\n",
    "df_mean_all = pd.DataFrame([d.mean(0) for d in df_all], index=['true', 'fake', 'emg']).T\n",
    "\n",
    "_df_true = df_mean_all.true\n",
    "_df_true.index = range(-df_peak.true[0], 2000 - df_peak.true[0])\n",
    "_df_fake = df_mean_all.fake\n",
    "_df_fake.index = range(-df_peak.fake[0], 2000 - df_peak.fake[0])\n",
    "_df_emg = df_mean_all.emg\n",
    "_df_emg.index = range(-df_peak.emg[0], 2000 - df_peak.emg[0])\n",
    "\n",
    "df_fix_all = pd.DataFrame([\n",
    "    _df_true,\n",
    "    _df_fake,\n",
    "    _df_emg\n",
    "]).T\n",
    "\n",
    "df_fix_all.plot(title='True Fake and EMG with ALL Data (0 = Peak)', figsize=(16, 9))"
   ]
  },
  {
   "cell_type": "code",
   "execution_count": null,
   "id": "80c78d24-0468-4a46-901c-291ee6d3dc55",
   "metadata": {},
   "outputs": [],
   "source": [
    "df_fix_all.loc[-49:50].plot(title='Intrest Time TOI (Peak around 98ms) (0 = Peak)', figsize=(16, 9))\n",
    "plt.vlines(0, -10, 0)"
   ]
  },
  {
   "cell_type": "code",
   "execution_count": null,
   "id": "1147c387-d893-4b2b-9261-3ffe263da6a2",
   "metadata": {},
   "outputs": [],
   "source": [
    "df_fix_all.loc[-74:75].plot(title='Intrest Time TOI (Peak around 148ms) (0 = Peak)', figsize=(16, 9))\n",
    "plt.vlines(0, -10, 0)"
   ]
  },
  {
   "cell_type": "code",
   "execution_count": null,
   "id": "8826c27b-bd63-494f-8616-2cc6b61cf19a",
   "metadata": {},
   "outputs": [],
   "source": [
    "df_fix_all.loc[-300:301].plot(title='Intrest Time TOI (Peak around 600ms) (0 = Peak)  day2-session4', figsize=(16, 9))\n",
    "plt.vlines(0, -10, 0)"
   ]
  },
  {
   "cell_type": "code",
   "execution_count": null,
   "id": "94268bfb-4216-4d5d-bc98-09a3d98db86c",
   "metadata": {},
   "outputs": [],
   "source": []
  },
  {
   "cell_type": "code",
   "execution_count": null,
   "id": "f7525403-9f5c-48fe-b1fa-49579d308178",
   "metadata": {},
   "outputs": [],
   "source": []
  }
 ],
 "metadata": {
  "kernelspec": {
   "display_name": "Python 3 (ipykernel)",
   "language": "python",
   "name": "python3"
  },
  "language_info": {
   "codemirror_mode": {
    "name": "ipython",
    "version": 3
   },
   "file_extension": ".py",
   "mimetype": "text/x-python",
   "name": "python",
   "nbconvert_exporter": "python",
   "pygments_lexer": "ipython3",
   "version": "3.8.7"
  }
 },
 "nbformat": 4,
 "nbformat_minor": 5
}
