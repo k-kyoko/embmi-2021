{
 "cells": [
  {
   "cell_type": "code",
   "execution_count": 1,
   "id": "fb36ddc7-3322-4088-a54e-3ee9ca91b18d",
   "metadata": {},
   "outputs": [],
   "source": [
    "from typing import NamedTuple, List, Tuple\n",
    "\n",
    "from scipy.io import loadmat\n",
    "import numpy as np\n",
    "import matplotlib.pyplot as plt\n",
    "\n",
    "import os\n",
    "from glob import glob"
   ]
  },
  {
   "cell_type": "code",
   "execution_count": 2,
   "id": "ac985532-a10e-4d44-9044-3ecd60b1f210",
   "metadata": {},
   "outputs": [],
   "source": [
    "class Exdata(NamedTuple):\n",
    "    trial: str\n",
    "    EEG: np.ndarray\n",
    "    DIN: List[Tuple[str, float]]\n",
    "    SamplingRate: float\n",
    "\n",
    "    def __repr__(self)->str:\n",
    "        \"\"\"\n",
    "        表示を変える\n",
    "        \"\"\"\n",
    "        return f'Exdata(trial:{self.trial}, EEG:{self.EEG.shape}, DIN:({len(self.DIN)}), SamplingRate:{self.SamplingRate})'\n",
    "    \n",
    "    @classmethod\n",
    "    def from_mat_file(cls, path: str):\n",
    "  \n",
    "        mat = loadmat(path)\n",
    "        path_data\n",
    "        path_param\n",
    "        trial = os.path.basename(path).split('_')[1]\n",
    "        sr = float(mat['EEGSamplingRate'][0])\n",
    "        _din = mat['evt_255_DINs']\n",
    "        din = []\n",
    "        for i in range(_din.shape[1]):\n",
    "            label = str(_din[0, i][0])\n",
    "            value = float(_din[1, i][0])\n",
    "            din.append((label, value))\n",
    "        \n",
    "        for k in mat.keys():\n",
    "            if ('mff' in k) and ('EMG' not in k):\n",
    "                eeg = mat[k]\n",
    "        \n",
    "        return cls(trial, eeg, din, sr)\n",
    "    \n",
    "    "
   ]
  },
  {
   "cell_type": "code",
   "execution_count": null,
   "id": "62ddcd89-a3d2-43cc-9dda-709202e3d430",
   "metadata": {},
   "outputs": [],
   "source": [
    "dl = glob('./data_ST/*.mat')\n",
    "data_raw = {\n",
    "    os.path.basename(i).split('_')[1]: Exdata.from_mat_file(i)\n",
    "    for i in dl\n",
    "}"
   ]
  },
  {
   "cell_type": "code",
   "execution_count": null,
   "id": "8ca497cc-e4ca-4a07-8e62-c7a195bf5c02",
   "metadata": {},
   "outputs": [],
   "source": [
    "data_raw"
   ]
  },
  {
   "cell_type": "code",
   "execution_count": null,
   "id": "626dc56a-9174-4a17-aee7-3af3ed525b2f",
   "metadata": {},
   "outputs": [],
   "source": [
    "data_all = []\n",
    "for i in range(6):\n",
    "    temp = loadmat(dl[i])\n",
    "    data_all.append(temp)"
   ]
  },
  {
   "cell_type": "code",
   "execution_count": null,
   "id": "0540b5cd-4a7f-4619-a687-e0a95ba01f8e",
   "metadata": {},
   "outputs": [],
   "source": [
    "data_all[0].keys()"
   ]
  },
  {
   "cell_type": "code",
   "execution_count": 20,
   "id": "b41e5c05-a68c-4bfb-b081-39de917d6069",
   "metadata": {},
   "outputs": [
    {
     "data": {
      "text/plain": [
       "numpy.ndarray"
      ]
     },
     "execution_count": 20,
     "metadata": {},
     "output_type": "execute_result"
    }
   ],
   "source": [
    "ex_params = loadmat('./data_ST/ST_tr6_params.mat')\n",
    "type(ex_params['randt'])"
   ]
  },
  {
   "cell_type": "code",
   "execution_count": null,
   "id": "73d457e9-6e5a-4208-a837-f91408fb2f15",
   "metadata": {},
   "outputs": [],
   "source": [
    "randt_all = ex_params['randt'].T\n",
    "randt_all[1].shape"
   ]
  },
  {
   "cell_type": "code",
   "execution_count": 21,
   "id": "dd5eaec9-2c6e-4950-aa35-1a9f13ea3c74",
   "metadata": {},
   "outputs": [
    {
     "data": {
      "text/plain": [
       "['./data_ST/ST_S5_params.mat',\n",
       " './data_ST/ST_S2_params.mat',\n",
       " './data_ST/ST_S4_params.mat',\n",
       " './data_ST/ST_S1_params.mat',\n",
       " './data_ST/ST_S6_params.mat',\n",
       " './data_ST/ST_S3_params.mat']"
      ]
     },
     "execution_count": 21,
     "metadata": {},
     "output_type": "execute_result"
    }
   ],
   "source": [
    "dl = glob('./data_ST/*params.mat')\n",
    "dl"
   ]
  },
  {
   "cell_type": "code",
   "execution_count": 22,
   "id": "2525d851-20f5-4e13-b303-352f7f5f57af",
   "metadata": {},
   "outputs": [],
   "source": [
    "temp = loadmat(dl[0])\n"
   ]
  },
  {
   "cell_type": "code",
   "execution_count": 24,
   "id": "b5a28f28-a257-4dbc-a211-53382f21a376",
   "metadata": {
    "tags": []
   },
   "outputs": [
    {
     "data": {
      "text/plain": [
       "dict_keys(['__header__', '__version__', '__globals__', 'ERD_c3_task', 'TempTaskFFTPower_mean_c3', 'TempTask_c3', 'din6', 'din8', 'din_interval', 'point_num', 'point_trial', 'point_trial_FB', 'randt'])"
      ]
     },
     "execution_count": 24,
     "metadata": {},
     "output_type": "execute_result"
    }
   ],
   "source": [
    "temp.keys()"
   ]
  },
  {
   "cell_type": "code",
   "execution_count": 28,
   "id": "fbadb60d-6965-4a73-a3e0-4f76a4c3945a",
   "metadata": {},
   "outputs": [
    {
     "data": {
      "text/plain": [
       "array([27, 22, 13, 28, 15,  6, 21, 30, 17,  3, 23,  5, 26,  2, 18, 14, 11,\n",
       "        4,  9, 25, 12, 19,  1,  8, 10], dtype=uint8)"
      ]
     },
     "execution_count": 28,
     "metadata": {},
     "output_type": "execute_result"
    }
   ],
   "source": [
    "temp['randt'][:, 0]"
   ]
  },
  {
   "cell_type": "code",
   "execution_count": null,
   "id": "eca57590-48d4-4e98-ba9d-17aa6cbf8820",
   "metadata": {},
   "outputs": [],
   "source": []
  }
 ],
 "metadata": {
  "kernelspec": {
   "display_name": "Python 3 (ipykernel)",
   "language": "python",
   "name": "python3"
  },
  "language_info": {
   "codemirror_mode": {
    "name": "ipython",
    "version": 3
   },
   "file_extension": ".py",
   "mimetype": "text/x-python",
   "name": "python",
   "nbconvert_exporter": "python",
   "pygments_lexer": "ipython3",
   "version": "3.8.7"
  }
 },
 "nbformat": 4,
 "nbformat_minor": 5
}
