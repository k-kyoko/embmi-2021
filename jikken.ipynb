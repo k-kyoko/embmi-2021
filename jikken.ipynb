{
 "cells": [
  {
   "cell_type": "code",
   "execution_count": null,
   "id": "fb36ddc7-3322-4088-a54e-3ee9ca91b18d",
   "metadata": {},
   "outputs": [],
   "source": [
    "from typing import NamedTuple, List, Tuple\n",
    "\n",
    "from scipy.io import loadmat\n",
    "import numpy as np\n",
    "import matplotlib.pyplot as plt\n",
    "\n",
    "import os\n",
    "from glob import glob"
   ]
  },
  {
   "cell_type": "code",
   "execution_count": null,
   "id": "ac985532-a10e-4d44-9044-3ecd60b1f210",
   "metadata": {},
   "outputs": [],
   "source": [
    "class Exdata(NamedTuple):\n",
    "    trial: str\n",
    "    EEG: np.ndarray\n",
    "    DIN: List[Tuple[str, float]]\n",
    "    SamplingRate: float\n",
    "    \n",
    "    def __repr__(self)->str:\n",
    "        \"\"\"\n",
    "        表示を変えるぞはーと\n",
    "        \"\"\"\n",
    "        return f'Exdata(trial:{self.trial}, EEG:{self.EEG.shape}, DIN:({len(self.DIN)}), SamplingRate:{self.SamplingRate})'\n",
    "    \n",
    "    @classmethod\n",
    "    def from_mat_file(cls, path: str):\n",
    "        mat = loadmat(path)\n",
    "        trial = os.path.basename(path).split('_')[1]\n",
    "        sr = float(mat['EEGSamplingRate'][0])\n",
    "        _din = mat['evt_255_DINs']\n",
    "        din = []\n",
    "        for i in range(_din.shape[1]):\n",
    "            label = str(_din[0, i][0])\n",
    "            value = float(_din[1, i][0])\n",
    "            din.append((label, value))\n",
    "        \n",
    "        for k in mat.keys():\n",
    "            if ('mff' in k) and ('EMG' not in k):\n",
    "                eeg = mat[k]\n",
    "        \n",
    "        return cls(trial, eeg, din, sr)\n",
    "    \n",
    "    "
   ]
  },
  {
   "cell_type": "code",
   "execution_count": null,
   "id": "62ddcd89-a3d2-43cc-9dda-709202e3d430",
   "metadata": {},
   "outputs": [],
   "source": [
    "dl = glob('./data_ST/*.mat')\n",
    "data_raw = {\n",
    "    os.path.basename(i).split('_')[1]: Exdata.from_mat_file(i)\n",
    "    for i in dl\n",
    "}"
   ]
  },
  {
   "cell_type": "code",
   "execution_count": null,
   "id": "8ca497cc-e4ca-4a07-8e62-c7a195bf5c02",
   "metadata": {},
   "outputs": [
    {
     "data": {
      "text/plain": [
       "{'tr6': Exdata(trial:tr6, EEG:(129, 435655), DIN:(79), SamplingRate:1000.0),\n",
       " 'tr1': Exdata(trial:tr1, EEG:(129, 423953), DIN:(78), SamplingRate:1000.0),\n",
       " 'tr4': Exdata(trial:tr4, EEG:(129, 423773), DIN:(76), SamplingRate:1000.0),\n",
       " 'tr2': Exdata(trial:tr2, EEG:(129, 413563), DIN:(77), SamplingRate:1000.0),\n",
       " 'tr3': Exdata(trial:tr3, EEG:(129, 421456), DIN:(75), SamplingRate:1000.0),\n",
       " 'tr5': Exdata(trial:tr5, EEG:(129, 422731), DIN:(80), SamplingRate:1000.0)}"
      ]
     },
     "execution_count": 4,
     "metadata": {},
     "output_type": "execute_result"
    }
   ],
   "source": [
    "data_raw"
   ]
  }
 ],
 "metadata": {
  "kernelspec": {
   "display_name": "Python 3 (ipykernel)",
   "language": "python",
   "name": "python3"
  },
  "language_info": {
   "codemirror_mode": {
    "name": "ipython",
    "version": 3
   },
   "file_extension": ".py",
   "mimetype": "text/x-python",
   "name": "python",
   "nbconvert_exporter": "python",
   "pygments_lexer": "ipython3",
   "version": "3.8.7"
  }
 },
 "nbformat": 4,
 "nbformat_minor": 5
}
