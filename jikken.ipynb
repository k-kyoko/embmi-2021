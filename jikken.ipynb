{
 "cells": [
  {
   "cell_type": "code",
   "execution_count": 1,
   "id": "fb36ddc7-3322-4088-a54e-3ee9ca91b18d",
   "metadata": {},
   "outputs": [],
   "source": [
    "from typing import NamedTuple, List, Tuple\n",
    "\n",
    "from scipy.io import loadmat\n",
    "import numpy as np\n",
    "import matplotlib.pyplot as plt\n",
    "\n",
    "import os\n",
    "from glob import glob"
   ]
  },
  {
   "cell_type": "code",
   "execution_count": 2,
   "id": "ac985532-a10e-4d44-9044-3ecd60b1f210",
   "metadata": {},
   "outputs": [],
   "source": [
    "class Exdata(NamedTuple):\n",
    "    trial: str\n",
    "    EEG: np.ndarray\n",
    "    DIN: List[Tuple[str, float]]\n",
    "    SamplingRate: float\n",
    "\n",
    "    def __repr__(self)->str:\n",
    "        \"\"\"\n",
    "        表示を変えるぞはーと\n",
    "        \"\"\"\n",
    "        return f'Exdata(trial:{self.trial}, EEG:{self.EEG.shape}, DIN:({len(self.DIN)}), SamplingRate:{self.SamplingRate})'\n",
    "    \n",
    "    @classmethod\n",
    "    def from_mat_file(cls, path: str):\n",
    "  \n",
    "        mat = loadmat(path)\n",
    "        trial = os.path.basename(path).split('_')[1]\n",
    "        sr = float(mat['EEGSamplingRate'][0])\n",
    "        _din = mat['evt_255_DINs']\n",
    "        din = []\n",
    "        for i in range(_din.shape[1]):\n",
    "            label = str(_din[0, i][0])\n",
    "            value = float(_din[1, i][0])\n",
    "            din.append((label, value))\n",
    "        \n",
    "        for k in mat.keys():\n",
    "            if ('mff' in k) and ('EMG' not in k):\n",
    "                eeg = mat[k]\n",
    "        \n",
    "        return cls(trial, eeg, din, sr)\n",
    "    \n",
    "    "
   ]
  },
  {
   "cell_type": "code",
   "execution_count": 3,
   "id": "62ddcd89-a3d2-43cc-9dda-709202e3d430",
   "metadata": {},
   "outputs": [],
   "source": [
    "dl = glob('./data_ST/*.mat')\n",
    "data_raw = {\n",
    "    os.path.basename(i).split('_')[1]: Exdata.from_mat_file(i)\n",
    "    for i in dl\n",
    "}"
   ]
  },
  {
   "cell_type": "code",
   "execution_count": 4,
   "id": "8ca497cc-e4ca-4a07-8e62-c7a195bf5c02",
   "metadata": {},
   "outputs": [
    {
     "data": {
      "text/plain": [
       "{'tr6': Exdata(trial:tr6, EEG:(129, 435655), DIN:(79), SamplingRate:1000.0),\n",
       " 'tr1': Exdata(trial:tr1, EEG:(129, 423953), DIN:(78), SamplingRate:1000.0),\n",
       " 'tr4': Exdata(trial:tr4, EEG:(129, 423773), DIN:(76), SamplingRate:1000.0),\n",
       " 'tr2': Exdata(trial:tr2, EEG:(129, 413563), DIN:(77), SamplingRate:1000.0),\n",
       " 'tr3': Exdata(trial:tr3, EEG:(129, 421456), DIN:(75), SamplingRate:1000.0),\n",
       " 'tr5': Exdata(trial:tr5, EEG:(129, 422731), DIN:(80), SamplingRate:1000.0)}"
      ]
     },
     "execution_count": 4,
     "metadata": {},
     "output_type": "execute_result"
    }
   ],
   "source": [
    "data_raw"
   ]
  },
  {
   "cell_type": "code",
   "execution_count": 9,
   "id": "626dc56a-9174-4a17-aee7-3af3ed525b2f",
   "metadata": {},
   "outputs": [],
   "source": [
    "data_all = []\n",
    "for i in range(6):\n",
    "    temp = loadmat(dl[i])\n",
    "    data_all.append(temp)"
   ]
  },
  {
   "cell_type": "code",
   "execution_count": 15,
   "id": "0540b5cd-4a7f-4619-a687-e0a95ba01f8e",
   "metadata": {},
   "outputs": [
    {
     "data": {
      "text/plain": [
       "dict_keys(['__header__', '__version__', '__globals__', 'SeiTakeda_tr6_20210801_133611mff', 'SeiTakeda_tr6_20210801_133611mffEMG', 'EEGSamplingRate', 'Impedances_EEG_0', 'PNSSamplingRate', 'evt_255_DINs'])"
      ]
     },
     "execution_count": 15,
     "metadata": {},
     "output_type": "execute_result"
    }
   ],
   "source": [
    "data_all[0].keys()"
   ]
  },
  {
   "cell_type": "code",
   "execution_count": 23,
   "id": "b41e5c05-a68c-4bfb-b081-39de917d6069",
   "metadata": {},
   "outputs": [
    {
     "data": {
      "text/plain": [
       "dict_keys(['__header__', '__version__', '__globals__', 'ERD_c3_task', 'TempTaskFFTPower_mean_c3', 'TempTask_c3', 'din6', 'din8', 'din_interval', 'point_num', 'point_trial', 'point_trial_FB', 'randt'])"
      ]
     },
     "execution_count": 23,
     "metadata": {},
     "output_type": "execute_result"
    }
   ],
   "source": [
    "ex_params = loadmat('./data_ST/ST_tr6.mat')\n",
    "ex_params.keys()"
   ]
  },
  {
   "cell_type": "code",
   "execution_count": 34,
   "id": "73d457e9-6e5a-4208-a837-f91408fb2f15",
   "metadata": {},
   "outputs": [
    {
     "data": {
      "text/plain": [
       "(25,)"
      ]
     },
     "execution_count": 34,
     "metadata": {},
     "output_type": "execute_result"
    }
   ],
   "source": [
    "randt_all = ex_params['randt'].T\n",
    "randt_all[1].shape"
   ]
  },
  {
   "cell_type": "code",
   "execution_count": 49,
   "id": "dd5eaec9-2c6e-4950-aa35-1a9f13ea3c74",
   "metadata": {},
   "outputs": [
    {
     "data": {
      "text/plain": [
       "['./data_ST/SeiTakeda_tr6_20210801_133611.mat',\n",
       " './data_ST/SeiTakeda_tr1_20210801_122757.mat',\n",
       " './data_ST/ST_tr6_params.mat',\n",
       " './data_ST/SeiTakeda_tr4_20210801_131751.mat',\n",
       " './data_ST/SeiTakeda_tr2_20210801_123816.mat',\n",
       " './data_ST/SeiTakeda_tr3_20210801_124957.mat',\n",
       " './data_ST/SeiTakeda_tr5_20210801_132706.mat']"
      ]
     },
     "execution_count": 49,
     "metadata": {},
     "output_type": "execute_result"
    }
   ],
   "source": [
    "dl = glob('./data_ST/*.mat')\n",
    "dl"
   ]
  },
  {
   "cell_type": "code",
   "execution_count": 52,
   "id": "081daf14-08c7-4215-b9c6-1511bc6410c5",
   "metadata": {},
   "outputs": [
    {
     "data": {
      "text/plain": [
       "[]"
      ]
     },
     "execution_count": 52,
     "metadata": {},
     "output_type": "execute_result"
    }
   ],
   "source": [
    "dl_p = glob('^./data_ST/(?!.*params).*mat$')\n",
    "dl_p\n",
    "# 正規表現で_params.matを含むpathとそうでないpathを区別して格納\n",
    "# from_mat_fileでrandtを変数として読み込み"
   ]
  },
  {
   "cell_type": "code",
   "execution_count": null,
   "id": "193d4fbf-5b61-4c5d-8ab0-9aaacc42d581",
   "metadata": {},
   "outputs": [],
   "source": [
    "      #// PATTERNで終了しない文字列の表現　\n",
    "      #  path_data = path^.*(?<!params)$"
   ]
  }
 ],
 "metadata": {
  "kernelspec": {
   "display_name": "Python 3 (ipykernel)",
   "language": "python",
   "name": "python3"
  },
  "language_info": {
   "codemirror_mode": {
    "name": "ipython",
    "version": 3
   },
   "file_extension": ".py",
   "mimetype": "text/x-python",
   "name": "python",
   "nbconvert_exporter": "python",
   "pygments_lexer": "ipython3",
   "version": "3.8.7"
  }
 },
 "nbformat": 4,
 "nbformat_minor": 5
}
